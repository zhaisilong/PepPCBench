{
 "cells": [
  {
   "cell_type": "code",
   "execution_count": 17,
   "metadata": {},
   "outputs": [],
   "source": [
    "import pandas as pd\n",
    "import matplotlib.pyplot as plt\n",
    "import seaborn as sns\n",
    "from pathlib import Path\n",
    "from utils import get_core_set\n",
    "from matplotlib.colors import ListedColormap\n",
    "import numpy as np"
   ]
  },
  {
   "cell_type": "code",
   "execution_count": 18,
   "metadata": {},
   "outputs": [],
   "source": [
    "results_dir = Path(\"../results\")\n",
    "\n",
    "df_summary = pd.read_csv(\"../summary_jobs.csv\")"
   ]
  },
  {
   "cell_type": "code",
   "execution_count": 19,
   "metadata": {},
   "outputs": [
    {
     "name": "stdout",
     "output_type": "stream",
     "text": [
      "284\n",
      "\n"
     ]
    }
   ],
   "source": [
    "df_summary.head()\n",
    "\n",
    "print(len(df_summary))\n",
    "print()"
   ]
  },
  {
   "cell_type": "code",
   "execution_count": 20,
   "metadata": {},
   "outputs": [],
   "source": [
    "df = df_summary[df_summary[\"peptide_chain_len\"] >= 30]"
   ]
  },
  {
   "cell_type": "code",
   "execution_count": 21,
   "metadata": {},
   "outputs": [],
   "source": [
    "df[\"job_name\"].to_csv(\"bads.csv\", index=False)"
   ]
  },
  {
   "cell_type": "code",
   "execution_count": 7,
   "metadata": {},
   "outputs": [
    {
     "data": {
      "text/plain": [
       "Index(['job_name', 'job_dir', 'pdb_id', 'pdb_date', 'protein_chains',\n",
       "       'peptide_chains', 'peptide_chain_len', 'peptide_chain_has_ncaa',\n",
       "       'msa_status_af3', 'infer_status_af3', 'msa_status_rfaa',\n",
       "       'infer_status_rfaa', 'msa_status_chai', 'infer_status_chai',\n",
       "       'msa_status_helix', 'infer_status_helix', 'msa_status_afm',\n",
       "       'infer_status_afm'],\n",
       "      dtype='object')"
      ]
     },
     "execution_count": 7,
     "metadata": {},
     "output_type": "execute_result"
    }
   ],
   "source": [
    "df_summary.columns"
   ]
  },
  {
   "cell_type": "code",
   "execution_count": 9,
   "metadata": {},
   "outputs": [],
   "source": [
    "df_energy = pd.read_csv(results_dir / \"deltaG_native.csv\")"
   ]
  },
  {
   "cell_type": "code",
   "execution_count": 10,
   "metadata": {},
   "outputs": [
    {
     "data": {
      "text/html": [
       "<div>\n",
       "<style scoped>\n",
       "    .dataframe tbody tr th:only-of-type {\n",
       "        vertical-align: middle;\n",
       "    }\n",
       "\n",
       "    .dataframe tbody tr th {\n",
       "        vertical-align: top;\n",
       "    }\n",
       "\n",
       "    .dataframe thead th {\n",
       "        text-align: right;\n",
       "    }\n",
       "</style>\n",
       "<table border=\"1\" class=\"dataframe\">\n",
       "  <thead>\n",
       "    <tr style=\"text-align: right;\">\n",
       "      <th></th>\n",
       "      <th>job_name</th>\n",
       "      <th>dG_separated</th>\n",
       "      <th>dG_cross</th>\n",
       "      <th>sc_value</th>\n",
       "      <th>nres_all</th>\n",
       "      <th>nres_int</th>\n",
       "      <th>total_score</th>\n",
       "      <th>binding_energy</th>\n",
       "    </tr>\n",
       "  </thead>\n",
       "  <tbody>\n",
       "    <tr>\n",
       "      <th>0</th>\n",
       "      <td>8c5l_C</td>\n",
       "      <td>116.201302</td>\n",
       "      <td>-26.563793</td>\n",
       "      <td>0.657503</td>\n",
       "      <td>574.0</td>\n",
       "      <td>46.0</td>\n",
       "      <td>-151.984394</td>\n",
       "      <td>-142.765095</td>\n",
       "    </tr>\n",
       "    <tr>\n",
       "      <th>1</th>\n",
       "      <td>8cav_D</td>\n",
       "      <td>250.266571</td>\n",
       "      <td>62.517445</td>\n",
       "      <td>0.556771</td>\n",
       "      <td>880.0</td>\n",
       "      <td>66.0</td>\n",
       "      <td>2385.610673</td>\n",
       "      <td>-187.749126</td>\n",
       "    </tr>\n",
       "    <tr>\n",
       "      <th>2</th>\n",
       "      <td>8ccz_C</td>\n",
       "      <td>64.988777</td>\n",
       "      <td>-38.062405</td>\n",
       "      <td>0.735222</td>\n",
       "      <td>576.0</td>\n",
       "      <td>56.0</td>\n",
       "      <td>-232.529886</td>\n",
       "      <td>-103.051182</td>\n",
       "    </tr>\n",
       "    <tr>\n",
       "      <th>3</th>\n",
       "      <td>8cd3_A</td>\n",
       "      <td>8.570489</td>\n",
       "      <td>-31.803303</td>\n",
       "      <td>0.767265</td>\n",
       "      <td>110.0</td>\n",
       "      <td>44.0</td>\n",
       "      <td>-100.684217</td>\n",
       "      <td>-40.373792</td>\n",
       "    </tr>\n",
       "    <tr>\n",
       "      <th>4</th>\n",
       "      <td>8che_C</td>\n",
       "      <td>2.187284</td>\n",
       "      <td>-46.730911</td>\n",
       "      <td>0.758479</td>\n",
       "      <td>448.0</td>\n",
       "      <td>62.0</td>\n",
       "      <td>-622.964350</td>\n",
       "      <td>-48.918195</td>\n",
       "    </tr>\n",
       "  </tbody>\n",
       "</table>\n",
       "</div>"
      ],
      "text/plain": [
       "  job_name  dG_separated   dG_cross  sc_value  nres_all  nres_int  \\\n",
       "0   8c5l_C    116.201302 -26.563793  0.657503     574.0      46.0   \n",
       "1   8cav_D    250.266571  62.517445  0.556771     880.0      66.0   \n",
       "2   8ccz_C     64.988777 -38.062405  0.735222     576.0      56.0   \n",
       "3   8cd3_A      8.570489 -31.803303  0.767265     110.0      44.0   \n",
       "4   8che_C      2.187284 -46.730911  0.758479     448.0      62.0   \n",
       "\n",
       "   total_score  binding_energy  \n",
       "0  -151.984394     -142.765095  \n",
       "1  2385.610673     -187.749126  \n",
       "2  -232.529886     -103.051182  \n",
       "3  -100.684217      -40.373792  \n",
       "4  -622.964350      -48.918195  "
      ]
     },
     "execution_count": 10,
     "metadata": {},
     "output_type": "execute_result"
    }
   ],
   "source": [
    "df_energy.head()"
   ]
  },
  {
   "cell_type": "code",
   "execution_count": 11,
   "metadata": {},
   "outputs": [],
   "source": [
    "df_iASA = pd.read_csv(results_dir / \"iASA_native.csv\")"
   ]
  },
  {
   "cell_type": "code",
   "execution_count": 12,
   "metadata": {},
   "outputs": [
    {
     "data": {
      "text/html": [
       "<div>\n",
       "<style scoped>\n",
       "    .dataframe tbody tr th:only-of-type {\n",
       "        vertical-align: middle;\n",
       "    }\n",
       "\n",
       "    .dataframe tbody tr th {\n",
       "        vertical-align: top;\n",
       "    }\n",
       "\n",
       "    .dataframe thead th {\n",
       "        text-align: right;\n",
       "    }\n",
       "</style>\n",
       "<table border=\"1\" class=\"dataframe\">\n",
       "  <thead>\n",
       "    <tr style=\"text-align: right;\">\n",
       "      <th></th>\n",
       "      <th>job_name</th>\n",
       "      <th>iASA</th>\n",
       "      <th>iASA%</th>\n",
       "      <th>sasa_peptide</th>\n",
       "      <th>sasa_protein</th>\n",
       "      <th>sasa_complex</th>\n",
       "    </tr>\n",
       "  </thead>\n",
       "  <tbody>\n",
       "    <tr>\n",
       "      <th>0</th>\n",
       "      <td>8c5l_C</td>\n",
       "      <td>624.850114</td>\n",
       "      <td>31.076444</td>\n",
       "      <td>2010.687321</td>\n",
       "      <td>23673.274874</td>\n",
       "      <td>24434.261968</td>\n",
       "    </tr>\n",
       "    <tr>\n",
       "      <th>1</th>\n",
       "      <td>8cav_D</td>\n",
       "      <td>645.486582</td>\n",
       "      <td>30.502313</td>\n",
       "      <td>2116.188967</td>\n",
       "      <td>36987.652887</td>\n",
       "      <td>37812.868689</td>\n",
       "    </tr>\n",
       "    <tr>\n",
       "      <th>2</th>\n",
       "      <td>8ccz_C</td>\n",
       "      <td>976.586255</td>\n",
       "      <td>39.539905</td>\n",
       "      <td>2469.875089</td>\n",
       "      <td>25001.261138</td>\n",
       "      <td>25517.963717</td>\n",
       "    </tr>\n",
       "    <tr>\n",
       "      <th>3</th>\n",
       "      <td>8cd3_A</td>\n",
       "      <td>502.104275</td>\n",
       "      <td>41.985387</td>\n",
       "      <td>1195.902449</td>\n",
       "      <td>6495.063409</td>\n",
       "      <td>6686.757310</td>\n",
       "    </tr>\n",
       "    <tr>\n",
       "      <th>4</th>\n",
       "      <td>8che_C</td>\n",
       "      <td>779.780279</td>\n",
       "      <td>43.195200</td>\n",
       "      <td>1805.247532</td>\n",
       "      <td>19732.549241</td>\n",
       "      <td>19978.236215</td>\n",
       "    </tr>\n",
       "  </tbody>\n",
       "</table>\n",
       "</div>"
      ],
      "text/plain": [
       "  job_name        iASA      iASA%  sasa_peptide  sasa_protein  sasa_complex\n",
       "0   8c5l_C  624.850114  31.076444   2010.687321  23673.274874  24434.261968\n",
       "1   8cav_D  645.486582  30.502313   2116.188967  36987.652887  37812.868689\n",
       "2   8ccz_C  976.586255  39.539905   2469.875089  25001.261138  25517.963717\n",
       "3   8cd3_A  502.104275  41.985387   1195.902449   6495.063409   6686.757310\n",
       "4   8che_C  779.780279  43.195200   1805.247532  19732.549241  19978.236215"
      ]
     },
     "execution_count": 12,
     "metadata": {},
     "output_type": "execute_result"
    }
   ],
   "source": [
    "df_iASA.head()"
   ]
  },
  {
   "cell_type": "code",
   "execution_count": null,
   "metadata": {},
   "outputs": [],
   "source": []
  }
 ],
 "metadata": {
  "kernelspec": {
   "display_name": "af3_tmp",
   "language": "python",
   "name": "python3"
  },
  "language_info": {
   "codemirror_mode": {
    "name": "ipython",
    "version": 3
   },
   "file_extension": ".py",
   "mimetype": "text/x-python",
   "name": "python",
   "nbconvert_exporter": "python",
   "pygments_lexer": "ipython3",
   "version": "3.12.8"
  }
 },
 "nbformat": 4,
 "nbformat_minor": 2
}
