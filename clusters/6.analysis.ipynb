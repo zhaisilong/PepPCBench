{
 "cells": [
  {
   "cell_type": "code",
   "execution_count": 1,
   "metadata": {},
   "outputs": [],
   "source": [
    "import pandas as pd\n",
    "from tqdm.auto import tqdm\n",
    "import json"
   ]
  },
  {
   "cell_type": "code",
   "execution_count": 2,
   "metadata": {},
   "outputs": [
    {
     "name": "stdout",
     "output_type": "stream",
     "text": [
      "{'8i5e', '8p9x', '8ivz', '8vd2', '8tuq', '8jyq', '8rop', '8tut', '8vcx', '8i3f', '8t5p', '8gck', '8jis', '8rng', '8tqa', '8q7i', '8pwf', '8sm5', '8tmz', '8jbg', '8umo', '8cob', '8fua', '8ofg', '8s6n', '8jgg', '8wo9', '8wxx', '8ryo', '9c66', '8ryp', '8fub', '8ym2', '8q1r', '8vjy', '9ck0', '8jzw', '8g8a', '8cme', '8cir', '8t8g', '9ax9', '8y74', '8sgf', '8vjx', '8ckc', '8tee', '8pz9', '8tx8', '8p9r', '8q26', '8vdd', '8ti7', '8pz8', '8x8a', '8tq9', '8fyu', '8tg7', '8th6', '8cd3', '8jly', '8roo', '8ryq', '8cky', '8pii', '8p43', '8pxx', '8u26', '8toq', '8wxr', '9f7x', '8p6i', '8tq8', '8tfu', '8igc', '8isn', '8u9g', '8v5y', '8q5s', '8th1', '8jbh', '8tq7', '8tot', '8fym', '8rym', '8pku', '8qlm', '8cm9', '8t8s', '8suv', '8t31', '8vjp', '8wxu', '8q1h', '8rbv', '8ia4', '8q1q', '8u51', '8rlu', '9ez2', '8ral', '9eyr', '8pjg', '8jgb', '8jgf', '8ccz', '8fud', '8tor', '8oep', '8j4g', '8tos', '8tg8', '8u1z', '8ryn', '8okf', '8w6l', '8jqt', '9ez1', '8vgd', '8p0q', '8qlk', '8qm0', '8qxw', '8vpr', '8ui6', '8pz7', '8p9o', '8t5q', '8vmf', '8q7k', '8jv0', '8rlv', '8qlg', '8cmc', '8ref', '8wxv', '8pn5', '8th5', '8zpt', '8q6d', '8tgc', '8pzb', '8ujh', '8v8e', '8skj', '8q3s', '8cmg', '8vsj', '8jj9', '8in0', '8q6e', '8rnh', '8os1', '8t51', '8oio', '8s6u', '8qlv', '8rxb', '8smo', '8tbv', '9cwn', '8sbl', '8c5l', '8jzd', '8pz6', '8wte', '8w5z', '8kcv', '8q3t', '8r1t', '8sz2', '8s8o', '8t59', '8q5p', '8ttu', '8sbk', '9dw6', '8sr6', '8t5e', '9gag', '8kb1', '8rcv', '8wg8', '8u77', '8kb0', '8t32', '8r1p', '9g13', '8iya', '8wul', '8r10', '8u2m', '8q2z', '8cis', '8fu4', '8vkz', '8pwe', '8tbw', '8cqy', '9atn', '8t0p', '8sud', '8og0', '8pef', '8v9q', '8u2y', '8g8c', '8vcy', '8wxw', '8rlt', '8ru3', '8r1n', '8t33', '8vy8', '8rhq', '8g8q', '8opi', '8ib1', '8pwm', '8rte', '8ia8', '8wxt', '8ia5', '9f7w', '8gjg', '8vju', '8fuc', '8sao', '8ttt', '8wxq', '8rbu', '8cmi', '8w6a', '8s6o', '8r18', '8j5u', '8sf8', '8cmd', '8pkv', '8gji', '8jjv', '8t2n', '8rmo', '8gjf', '8fzm', '8wef', '8tgp', '8yhz', '8tdx', '8p9w', '8vgc', '9fj4', '8wxz', '8ck5', '8tuv', '8wee', '8zps', '8th7', '8op0'}\n"
     ]
    },
    {
     "data": {
      "application/vnd.jupyter.widget-view+json": {
       "model_id": "cc9b59e4f1d94c29bf4b70f51d2b8c0e",
       "version_major": 2,
       "version_minor": 0
      },
      "text/plain": [
       "  0%|          | 0/259 [00:00<?, ?it/s]"
      ]
     },
     "metadata": {},
     "output_type": "display_data"
    },
    {
     "name": "stdout",
     "output_type": "stream",
     "text": [
      "test set: 70, train set: 189\n",
      "{'8ivz', '8tfu', '8jj9', '8v5y', '8os1', '8rte', '8qlv', '8i3f', '8rxb', '8gck', '8gjg', '8qlm', '8c5l', '8jzd', '8q7i', '8t8s', '8sm5', '8suv', '8u51', '8w5z', '8ia4', '8sao', '8ttt', '8cob', '8ofg', '8s6n', '8s8o', '8ttu', '8sr6', '8jzw', '8s6o', '8t8g', '8t5e', '9gag', '8j5u', '8sgf', '8gji', '8tee', '8u77', '8gjf', '8tg8', '8u1z', '8p9r', '8okf', '8wef', '8vgd', '8ti7', '8p0q', '8qlk', '8qm0', '8ui6', '8p9o', '8vgc', '8u2m', '8qlg', '8wxz', '8fyu', '8pn5', '9atn', '8t0p', '8tg7', '8tgc', '8ujh', '8wee', '8v8e', '8pef', '8u2y', '8cky', '8wxw', '8pxx'}\n"
     ]
    },
    {
     "data": {
      "application/vnd.jupyter.widget-view+json": {
       "model_id": "72bb2e9dd68c48ddb2d7316e49a1b475",
       "version_major": 2,
       "version_minor": 0
      },
      "text/plain": [
       "  0%|          | 0/259 [00:00<?, ?it/s]"
      ]
     },
     "metadata": {},
     "output_type": "display_data"
    },
    {
     "name": "stdout",
     "output_type": "stream",
     "text": [
      "redundant set: 38, non-redundant set: 221\n",
      "{'8i5e', '8p9x', '8ivz', '8vd2', '8tuq', '8jyq', '8rop', '8tut', '8vcx', '8i3f', '8t5p', '8jis', '8rng', '8tqa', '8q7i', '8pwf', '8sm5', '8tmz', '8fua', '8ofg', '8wo9', '8wxx', '8ryo', '9c66', '8ryp', '8fub', '8ym2', '8q1r', '8vjy', '9ck0', '8jzw', '8g8a', '8cme', '8cir', '8t8g', '9ax9', '8y74', '8sgf', '8vjx', '8ckc', '8tee', '8pz9', '8tx8', '8q26', '8vdd', '8ti7', '8pz8', '8x8a', '8tq9', '8th6', '8cd3', '8jly', '8roo', '8ryq', '8cky', '8p43', '9f7x', '8wxr', '8pii', '8pxx', '8toq', '8p6i', '8tq8', '8tfu', '8igc', '8isn', '8u9g', '8q5s', '8th1', '8tq7', '8tot', '8fym', '8rym', '8pku', '8cm9', '8t8s', '8suv', '8t31', '8vjp', '8wxu', '8q1h', '8u51', '8ia4', '8q1q', '8rlu', '9ez2', '8ral', '9eyr', '8pjg', '8ccz', '8fud', '8tor', '8oep', '8j4g', '8tos', '8u1z', '8ryn', '8okf', '8w6l', '8jqt', '9ez1', '8p0q', '8vpr', '8qm0', '8qxw', '8ui6', '8pz7', '8vmf', '8t5q', '8q7k', '8jv0', '8rlv', '8cmc', '8wxv', '8pn5', '8th5', '8q6d', '8skj', '8pzb', '8v8e', '8q3s', '8cmg', '8jj9', '8in0', '8q6e', '8rnh', '8t51', '8oio', '8s6u', '8rxb', '8smo', '8tbv', '9cwn', '8sbl', '8c5l', '8jzd', '8pz6', '8wte', '8w5z', '8kcv', '8q3t', '8r1t', '8sz2', '8s8o', '8t59', '8q5p', '8sbk', '9dw6', '8sr6', '8t5e', '9gag', '8kb1', '8wg8', '8u77', '8kb0', '8t32', '8r1p', '9g13', '8iya', '8wul', '8r10', '8u2m', '8q2z', '8cis', '8fu4', '8vkz', '8pwe', '8tbw', '8cqy', '9atn', '8t0p', '8sud', '8og0', '8pef', '8v9q', '8u2y', '8g8c', '8vcy', '8wxw', '8rlt', '8ru3', '8r1n', '8t33', '8vy8', '8g8q', '8opi', '8ib1', '8pwm', '8rte', '8wxt', '9f7w', '8ia5', '8gjg', '8vju', '8fuc', '8sao', '8ttt', '8wxq', '8cmi', '8w6a', '8s6o', '8r18', '8j5u', '8sf8', '8cmd', '8pkv', '8gji', '8jjv', '8t2n', '8rmo', '8fzm', '8wef', '8tgp', '8yhz', '8tdx', '8p9w', '8vgc', '9fj4', '8ck5', '8th7', '8op0'}\n",
      "test independent set: 49\n"
     ]
    }
   ],
   "source": [
    "df_cluster = pd.read_csv(\"clusterRes_cluster.tsv\", sep='\\t', names=[\"rep\", \"member\"])\n",
    "df_cluster[\"rep\"] = df_cluster[\"rep\"].apply(lambda x: x.lower())\n",
    "df_cluster[\"member\"] = df_cluster[\"member\"].apply(lambda x: x.lower())\n",
    "df_cluster[\"rep_id\"] = df_cluster[\"rep\"].apply(lambda x: x.split(\"_\")[0].lower())\n",
    "df_cluster[\"member_id\"] = df_cluster[\"member\"].apply(lambda x: x.split(\"_\")[0].lower())\n",
    "df_cluster.head()\n",
    "\n",
    "df_query = pd.read_csv(\"../job_list.csv\")\n",
    "df_query_set = set(df_query[\"pdb_id\"])\n",
    "print(df_query_set)\n",
    "\n",
    "# 初始化集合\n",
    "test_set = set()\n",
    "train_set = set()\n",
    "\n",
    "for pdb_id in tqdm(df_query_set):\n",
    "    filter_df = df_cluster[df_cluster[\"member_id\"] == pdb_id]\n",
    "    cluster_ids = filter_df[\"rep_id\"].unique()\n",
    "    if all(rep_id in df_query_set for rep_id in cluster_ids):\n",
    "        test_set.add(pdb_id)\n",
    "    else:\n",
    "        train_set.add(pdb_id)\n",
    "\n",
    "print(f\"test set: {len(test_set)}, train set: {len(train_set)}\")\n",
    "\n",
    "print(test_set)\n",
    "\n",
    "redundant_set = set()\n",
    "non_redundant_set = set()\n",
    "\n",
    "for pdb_id in tqdm(df_query_set):\n",
    "    filter_df = df_cluster[df_cluster[\"member_id\"] == pdb_id]\n",
    "    cluster_ids = filter_df[\"rep_id\"].unique()\n",
    "\n",
    "    if len(cluster_ids) == 1:\n",
    "        if cluster_ids[0] == pdb_id:\n",
    "            non_redundant_set.add(pdb_id)\n",
    "        elif cluster_ids[0] in df_query_set:\n",
    "            redundant_set.add(pdb_id)\n",
    "        else:\n",
    "            non_redundant_set.add(pdb_id)\n",
    "    else:\n",
    "        if any(rep_id in df_query_set for rep_id in cluster_ids):\n",
    "            redundant_set.add(pdb_id)\n",
    "        else:\n",
    "            non_redundant_set.add(pdb_id)\n",
    "print(\n",
    "    f\"redundant set: {len(redundant_set)}, non-redundant set: {len(non_redundant_set)}\"\n",
    ")\n",
    "print(non_redundant_set)\n",
    "core_set = non_redundant_set & test_set\n",
    "print(f\"test independent set: {len(core_set)}\")"
   ]
  },
  {
   "cell_type": "code",
   "execution_count": 3,
   "metadata": {},
   "outputs": [],
   "source": [
    "with open(\"clusters_query.json\", \"w\") as f:\n",
    "    json.dump(\n",
    "        {\n",
    "            \"test_set\": list(test_set),\n",
    "            \"train_set\": list(train_set),\n",
    "            \"redundant_set\": list(redundant_set),\n",
    "            \"non_redundant_set\": list(non_redundant_set),\n",
    "            \"core_set\": list(core_set),\n",
    "        }, f, indent=4\n",
    "    )"
   ]
  },
  {
   "cell_type": "code",
   "execution_count": null,
   "metadata": {},
   "outputs": [],
   "source": []
  }
 ],
 "metadata": {
  "kernelspec": {
   "display_name": "peppcbench",
   "language": "python",
   "name": "python3"
  },
  "language_info": {
   "codemirror_mode": {
    "name": "ipython",
    "version": 3
   },
   "file_extension": ".py",
   "mimetype": "text/x-python",
   "name": "python",
   "nbconvert_exporter": "python",
   "pygments_lexer": "ipython3",
   "version": "3.12.9"
  }
 },
 "nbformat": 4,
 "nbformat_minor": 2
}
