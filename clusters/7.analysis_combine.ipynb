{
 "cells": [
  {
   "cell_type": "code",
   "execution_count": 1,
   "metadata": {},
   "outputs": [],
   "source": [
    "import pandas as pd\n",
    "from tqdm.auto import tqdm\n",
    "import json"
   ]
  },
  {
   "cell_type": "code",
   "execution_count": 4,
   "metadata": {},
   "outputs": [
    {
     "name": "stdout",
     "output_type": "stream",
     "text": [
      "56397\n"
     ]
    },
    {
     "data": {
      "text/html": [
       "<div>\n",
       "<style scoped>\n",
       "    .dataframe tbody tr th:only-of-type {\n",
       "        vertical-align: middle;\n",
       "    }\n",
       "\n",
       "    .dataframe tbody tr th {\n",
       "        vertical-align: top;\n",
       "    }\n",
       "\n",
       "    .dataframe thead th {\n",
       "        text-align: right;\n",
       "    }\n",
       "</style>\n",
       "<table border=\"1\" class=\"dataframe\">\n",
       "  <thead>\n",
       "    <tr style=\"text-align: right;\">\n",
       "      <th></th>\n",
       "      <th>rep</th>\n",
       "      <th>member</th>\n",
       "      <th>rep_id</th>\n",
       "      <th>member_id</th>\n",
       "    </tr>\n",
       "  </thead>\n",
       "  <tbody>\n",
       "    <tr>\n",
       "      <th>0</th>\n",
       "      <td>1a06</td>\n",
       "      <td>1a06</td>\n",
       "      <td>1a06</td>\n",
       "      <td>1a06</td>\n",
       "    </tr>\n",
       "    <tr>\n",
       "      <th>1</th>\n",
       "      <td>1a09</td>\n",
       "      <td>1a09</td>\n",
       "      <td>1a09</td>\n",
       "      <td>1a09</td>\n",
       "    </tr>\n",
       "    <tr>\n",
       "      <th>2</th>\n",
       "      <td>1a09</td>\n",
       "      <td>1a07</td>\n",
       "      <td>1a09</td>\n",
       "      <td>1a07</td>\n",
       "    </tr>\n",
       "    <tr>\n",
       "      <th>3</th>\n",
       "      <td>1a09</td>\n",
       "      <td>1a08</td>\n",
       "      <td>1a09</td>\n",
       "      <td>1a08</td>\n",
       "    </tr>\n",
       "    <tr>\n",
       "      <th>4</th>\n",
       "      <td>1a09</td>\n",
       "      <td>1a1a</td>\n",
       "      <td>1a09</td>\n",
       "      <td>1a1a</td>\n",
       "    </tr>\n",
       "  </tbody>\n",
       "</table>\n",
       "</div>"
      ],
      "text/plain": [
       "    rep member rep_id member_id\n",
       "0  1a06   1a06   1a06      1a06\n",
       "1  1a09   1a09   1a09      1a09\n",
       "2  1a09   1a07   1a09      1a07\n",
       "3  1a09   1a08   1a09      1a08\n",
       "4  1a09   1a1a   1a09      1a1a"
      ]
     },
     "execution_count": 4,
     "metadata": {},
     "output_type": "execute_result"
    }
   ],
   "source": [
    "# 先构建 Train / Test\n",
    "df_foldseek = pd.read_csv(\"clu_cluster.tsv\", sep='\\t', names=[\"rep\", \"member\"])\n",
    "df_foldseek[\"rep\"] = df_foldseek[\"rep\"].apply(lambda x: x.lower())\n",
    "df_foldseek[\"member\"] = df_foldseek[\"member\"].apply(lambda x: x.lower())\n",
    "df_foldseek[\"rep_id\"] = df_foldseek[\"rep\"].apply(lambda x: x.split(\"_\")[0].lower())\n",
    "df_foldseek[\"member_id\"] = df_foldseek[\"member\"].apply(lambda x: x.split(\"_\")[0].lower())\n",
    "print(len(df_foldseek))\n",
    "df_foldseek.head()"
   ]
  },
  {
   "cell_type": "code",
   "execution_count": null,
   "metadata": {},
   "outputs": [
    {
     "data": {
      "application/vnd.jupyter.widget-view+json": {
       "model_id": "9e0bf1c2ed2d4e9982e8fc3cdc02f851",
       "version_major": 2,
       "version_minor": 0
      },
      "text/plain": [
       "  0%|          | 0/259 [00:00<?, ?it/s]"
      ]
     },
     "metadata": {},
     "output_type": "display_data"
    },
    {
     "name": "stdout",
     "output_type": "stream",
     "text": [
      "redundant set: 38, non-redundant set: 221\n"
     ]
    }
   ],
   "source": [
    "df_cluster = pd.read_csv(\"clusterRes_cluster.tsv\", sep='\\t', names=[\"rep\", \"member\"])\n",
    "df_cluster[\"rep\"] = df_cluster[\"rep\"].apply(lambda x: x.lower())\n",
    "df_cluster[\"member\"] = df_cluster[\"member\"].apply(lambda x: x.lower())\n",
    "df_cluster[\"rep_id\"] = df_cluster[\"rep\"].apply(lambda x: x.split(\"_\")[0].lower())\n",
    "df_cluster[\"member_id\"] = df_cluster[\"member\"].apply(lambda x: x.split(\"_\")[0].lower())\n",
    "df_cluster.head()\n",
    "\n",
    "df_query = pd.read_csv(\"../job_list.csv\")\n",
    "df_query_set = set(df_query[\"pdb_id\"])\n",
    "print(df_query_set)\n",
    "\n",
    "# 初始化集合\n",
    "test_set = set()\n",
    "train_set = set()\n",
    "\n",
    "for pdb_id in tqdm(df_query_set):\n",
    "    filter_df = df_cluster[df_cluster[\"member_id\"] == pdb_id]\n",
    "    cluster_ids = filter_df[\"rep_id\"].unique()\n",
    "    if all(rep_id in df_query_set for rep_id in cluster_ids):\n",
    "        test_set.add(pdb_id)\n",
    "    else:\n",
    "        train_set.add(pdb_id)\n",
    "\n",
    "print(f\"test set: {len(test_set)}, train set: {len(train_set)}\")\n",
    "\n",
    "print(test_set)\n",
    "\n",
    "redundant_set = set()\n",
    "non_redundant_set = set()\n",
    "\n",
    "for pdb_id in tqdm(df_query_set):\n",
    "    filter_df = df_cluster[df_cluster[\"member_id\"] == pdb_id]\n",
    "    cluster_ids = filter_df[\"rep_id\"].unique()\n",
    "\n",
    "    if len(cluster_ids) == 1:\n",
    "        if cluster_ids[0] == pdb_id:\n",
    "            non_redundant_set.add(pdb_id)\n",
    "        elif cluster_ids[0] in df_query_set:\n",
    "            redundant_set.add(pdb_id)\n",
    "        else:\n",
    "            non_redundant_set.add(pdb_id)\n",
    "    else:\n",
    "        if any(rep_id in df_query_set for rep_id in cluster_ids):\n",
    "            redundant_set.add(pdb_id)\n",
    "        else:\n",
    "            non_redundant_set.add(pdb_id)\n",
    "print(\n",
    "    f\"redundant set: {len(redundant_set)}, non-redundant set: {len(non_redundant_set)}\"\n",
    ")\n",
    "print(non_redundant_set)\n",
    "core_set = non_redundant_set & test_set\n",
    "print(f\"test independent set: {len(core_set)}\")"
   ]
  },
  {
   "cell_type": "code",
   "execution_count": 36,
   "metadata": {},
   "outputs": [],
   "source": [
    "with open(\"clusters_query.json\", \"w\") as f:\n",
    "    json.dump(\n",
    "        {\n",
    "            \"test_set\": list(test_set),\n",
    "            \"train_set\": list(train_set),\n",
    "            \"redundant_set\": list(redundant_set),\n",
    "            \"non_redundant_set\": list(non_redundant_set),\n",
    "            \"core_set\": list(core_set),\n",
    "        }, f, indent=4\n",
    "    )"
   ]
  },
  {
   "cell_type": "code",
   "execution_count": null,
   "metadata": {},
   "outputs": [],
   "source": []
  }
 ],
 "metadata": {
  "kernelspec": {
   "display_name": "peppcbench",
   "language": "python",
   "name": "python3"
  },
  "language_info": {
   "codemirror_mode": {
    "name": "ipython",
    "version": 3
   },
   "file_extension": ".py",
   "mimetype": "text/x-python",
   "name": "python",
   "nbconvert_exporter": "python",
   "pygments_lexer": "ipython3",
   "version": "3.12.9"
  }
 },
 "nbformat": 4,
 "nbformat_minor": 2
}
