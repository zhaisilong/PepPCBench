{
 "cells": [
  {
   "cell_type": "code",
   "execution_count": 12,
   "metadata": {},
   "outputs": [],
   "source": [
    "from pathlib import Path\n",
    "import json\n",
    "import pandas as pd\n",
    "from copy import deepcopy"
   ]
  },
  {
   "cell_type": "code",
   "execution_count": 13,
   "metadata": {},
   "outputs": [],
   "source": [
    "task_name = \"MHC\"\n",
    "model_name = \"af3\"\n",
    "peptide_chains = \"A\"\n",
    "protein_chains = \"B\"\n",
    "\n",
    "data_dir = Path(f\".\")\n",
    "hmc_df = pd.read_csv(\"mhc_data.csv\")\n",
    "base_config_path = data_dir / \"mhc_data.json\"\n",
    "base_config = json.loads(base_config_path.read_text())\n",
    "info_config_path = data_dir / \"info-base.json\"\n",
    "base_info = json.loads(info_config_path.read_text())"
   ]
  },
  {
   "cell_type": "code",
   "execution_count": 14,
   "metadata": {},
   "outputs": [],
   "source": [
    "def get_config(seq: str):\n",
    "    msa_config = {\n",
    "        \"protein\": {\n",
    "            \"id\": \"A\",\n",
    "            \"sequence\": seq,\n",
    "        }\n",
    "    }\n",
    "    job_config = {\n",
    "        \"id\": \"A\",\n",
    "        \"sequence\": seq,\n",
    "        \"has_ncaa\": False,\n",
    "        \"positions\": [],\n",
    "        \"types\": [],\n",
    "        \"length\": len(seq),\n",
    "    }\n",
    "    return msa_config, job_config"
   ]
  },
  {
   "cell_type": "code",
   "execution_count": 11,
   "metadata": {},
   "outputs": [],
   "source": [
    "force_write = True\n",
    "\n",
    "for i, row in hmc_df.iterrows():\n",
    "    job_name = row[\"job_name\"]\n",
    "    job_dir = data_dir / task_name.lower() / job_name\n",
    "    job_dir.mkdir(parents=True, exist_ok=True)\n",
    "    af3_dir = job_dir / \"af3\"\n",
    "    af3_dir.mkdir(parents=True, exist_ok=True)\n",
    "\n",
    "    config = deepcopy(base_config)\n",
    "    config_info = deepcopy(base_info)\n",
    "\n",
    "    config[\"name\"] = job_name\n",
    "\n",
    "    msa_config, job_config = get_config(row[\"sequence\"])\n",
    "    config[\"sequences\"].insert(0, msa_config)\n",
    "    config_info[\"job_name\"] = job_name\n",
    "    config_info[\"A\"] = job_config\n",
    "\n",
    "    new_config_path = af3_dir / f\"{job_name}.json\"\n",
    "    if force_write or not new_config_path.exists():\n",
    "        json.dump(config, open(new_config_path, \"w\"), indent=2, ensure_ascii=False)\n",
    "    new_config_info_path = job_dir / f\"job_info.json\"\n",
    "    if force_write or not new_config_info_path.exists():\n",
    "        json.dump(\n",
    "            config_info, open(new_config_info_path, \"w\"), indent=2, ensure_ascii=False\n",
    "        )"
   ]
  },
  {
   "cell_type": "code",
   "execution_count": 32,
   "metadata": {},
   "outputs": [],
   "source": [
    "!python run_model.py --data_dir mhc --model_name af3 --gpu_id 3 > run_model.log 2>&1"
   ]
  },
  {
   "cell_type": "code",
   "execution_count": null,
   "metadata": {},
   "outputs": [],
   "source": []
  }
 ],
 "metadata": {
  "kernelspec": {
   "display_name": "peppcbench",
   "language": "python",
   "name": "python3"
  },
  "language_info": {
   "codemirror_mode": {
    "name": "ipython",
    "version": 3
   },
   "file_extension": ".py",
   "mimetype": "text/x-python",
   "name": "python",
   "nbconvert_exporter": "python",
   "pygments_lexer": "ipython3",
   "version": "3.12.9"
  }
 },
 "nbformat": 4,
 "nbformat_minor": 2
}
