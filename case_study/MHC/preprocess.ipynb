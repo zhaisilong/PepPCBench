{
 "cells": [
  {
   "cell_type": "code",
   "execution_count": 11,
   "metadata": {},
   "outputs": [],
   "source": [
    "import pandas as pd\n",
    "import os"
   ]
  },
  {
   "cell_type": "code",
   "execution_count": 12,
   "metadata": {},
   "outputs": [
    {
     "name": "stdout",
     "output_type": "stream",
     "text": [
      "6038\n"
     ]
    }
   ],
   "source": [
    "df = pd.read_csv('bdata.20130222.mhci.txt', sep='\\t')\n",
    "df = df[df['mhc'] == 'HLA-A*02:01']\n",
    "df = df[df['peptide_length'] == 9]\n",
    "df = df[df['inequality'] == \"=\"]\n",
    "print(len(df))"
   ]
  },
  {
   "cell_type": "code",
   "execution_count": 13,
   "metadata": {},
   "outputs": [],
   "source": [
    "random_seed = 1314\n",
    "df[\"meas\"] = df[\"meas\"].astype(float)\n",
    "force_write = True\n",
    "\n",
    "bin_each_class = 20\n",
    "\n",
    "df_0 = df[df[\"meas\"] == 1].sample(n=bin_each_class, random_state=random_seed)\n",
    "df_1 = df[(df[\"meas\"] < 10) & (df[\"meas\"] > 1)].sample(n=bin_each_class, random_state=random_seed)\n",
    "df_2 = df[(df[\"meas\"] < 100) & (df[\"meas\"] > 10)].sample(n=bin_each_class, random_state=random_seed)\n",
    "df_3 = df[(df[\"meas\"] < 1000) & (df[\"meas\"] > 100)].sample(\n",
    "    n=bin_each_class, random_state=random_seed\n",
    ")\n",
    "df_4 = df[(df[\"meas\"] < 10000) & (df[\"meas\"] > 1000)].sample(\n",
    "    n=bin_each_class, random_state=random_seed\n",
    ")\n",
    "df_5 = df[(df[\"meas\"] < 100000) & (df[\"meas\"] > 10000)].sample(\n",
    "    n=bin_each_class, random_state=random_seed\n",
    ")\n",
    "df_6 = df[df[\"meas\"] > 100000].sample(n=bin_each_class, random_state=random_seed)\n",
    "\n",
    "data_path = \"mhc_data.csv\"\n",
    "if not os.path.exists(data_path) or force_write:\n",
    "    df_filtered = pd.concat([df_0, df_1, df_2, df_3, df_4, df_5, df_6]).reset_index(\n",
    "        drop=True\n",
    "    )\n",
    "    for i, row in df_filtered.iterrows():\n",
    "        df_filtered.loc[i, \"job_name\"] = f\"mhc_{i}\"\n",
    "    df_filtered.to_csv(data_path, index=False)"
   ]
  },
  {
   "cell_type": "code",
   "execution_count": null,
   "metadata": {},
   "outputs": [],
   "source": []
  }
 ],
 "metadata": {
  "kernelspec": {
   "display_name": "peppcbench",
   "language": "python",
   "name": "python3"
  },
  "language_info": {
   "codemirror_mode": {
    "name": "ipython",
    "version": 3
   },
   "file_extension": ".py",
   "mimetype": "text/x-python",
   "name": "python",
   "nbconvert_exporter": "python",
   "pygments_lexer": "ipython3",
   "version": "3.12.9"
  }
 },
 "nbformat": 4,
 "nbformat_minor": 2
}
